{
 "cells": [
  {
   "cell_type": "markdown",
   "id": "mZqrKbKiOBPx",
   "metadata": {
    "id": "mZqrKbKiOBPx"
   },
   "source": [
    "# Import Libraries"
   ]
  },
  {
   "cell_type": "code",
   "execution_count": 50,
   "id": "c1CyotcmLeFd",
   "metadata": {
    "ExecuteTime": {
     "end_time": "2022-01-20T14:29:12.803102Z",
     "start_time": "2022-01-20T14:29:12.789226Z"
    },
    "id": "c1CyotcmLeFd"
   },
   "outputs": [],
   "source": [
    "import numpy as np\n",
    "import pandas as pd\n",
    "import seaborn as sns\n",
    "import matplotlib.pyplot as plt\n",
    "from dateutil import parser\n",
    "import html\n",
    "import re\n",
    "import emot\n",
    "from nltk.tokenize import TweetTokenizer\n",
    "import string\n",
    "from sklearn.feature_extraction.text import TfidfVectorizer\n",
    "from scipy.sparse import hstack\n",
    "from scipy.sparse import csr_matrix\n",
    "from sklearn.linear_model import LogisticRegression\n",
    "from sklearn.svm import LinearSVC\n",
    "from sklearn.linear_model import RidgeClassifier\n",
    "from sklearn.model_selection import cross_validate\n",
    "from sklearn.experimental import enable_halving_search_cv\n",
    "from sklearn.model_selection import HalvingGridSearchCV\n",
    "from wordcloud import WordCloud\n",
    "import matplotlib.pyplot as plt\n",
    "from PIL import Image"
   ]
  },
  {
   "cell_type": "markdown",
   "id": "ec1a5063",
   "metadata": {
    "id": "ec1a5063"
   },
   "source": [
    "# Datasets Download"
   ]
  },
  {
   "cell_type": "code",
   "execution_count": 2,
   "id": "312cc463",
   "metadata": {
    "ExecuteTime": {
     "end_time": "2022-01-20T14:14:32.403267Z",
     "start_time": "2022-01-20T14:14:31.659429Z"
    },
    "id": "312cc463"
   },
   "outputs": [],
   "source": [
    "df = pd.read_csv('DSL2122_january_dataset/development.csv')\n",
    "df_val = pd.read_csv('DSL2122_january_dataset/evaluation.csv')"
   ]
  },
  {
   "cell_type": "markdown",
   "id": "09eda818",
   "metadata": {
    "id": "09eda818"
   },
   "source": [
    "# Datasets Shape"
   ]
  },
  {
   "cell_type": "code",
   "execution_count": 3,
   "id": "be47f113",
   "metadata": {
    "ExecuteTime": {
     "end_time": "2022-01-20T14:14:32.419091Z",
     "start_time": "2022-01-20T14:14:32.405093Z"
    },
    "colab": {
     "base_uri": "https://localhost:8080/"
    },
    "id": "be47f113",
    "outputId": "05a2cfd4-6dd0-456f-cbce-bfe561d7cb0d"
   },
   "outputs": [
    {
     "name": "stdout",
     "output_type": "stream",
     "text": [
      "Dev Shape: (224994, 6), Eval Shape: (74999, 5)\n"
     ]
    }
   ],
   "source": [
    "print(f'Dev Shape: {df.shape}, Eval Shape: {df_val.shape}')"
   ]
  },
  {
   "cell_type": "markdown",
   "id": "02bde7f6",
   "metadata": {
    "id": "02bde7f6"
   },
   "source": [
    "# Drop Duplicates"
   ]
  },
  {
   "cell_type": "code",
   "execution_count": 4,
   "id": "b6a2987e",
   "metadata": {
    "ExecuteTime": {
     "end_time": "2022-01-20T14:14:33.965349Z",
     "start_time": "2022-01-20T14:14:32.420089Z"
    },
    "id": "b6a2987e"
   },
   "outputs": [],
   "source": [
    "wrong_duplicated_texts = df.groupby(by=['text']).mean()['sentiment'][((df.groupby(by=['text']).mean()['sentiment'] != 0) & (df.groupby(by=['text']).mean()['sentiment'] != 1))]"
   ]
  },
  {
   "cell_type": "code",
   "execution_count": 5,
   "id": "133d4fc4",
   "metadata": {
    "ExecuteTime": {
     "end_time": "2022-01-20T14:14:34.027255Z",
     "start_time": "2022-01-20T14:14:33.966348Z"
    },
    "id": "133d4fc4"
   },
   "outputs": [],
   "source": [
    "df = df[~df['text'].isin(wrong_duplicated_texts.keys())]"
   ]
  },
  {
   "cell_type": "code",
   "execution_count": 6,
   "id": "fb3c4280",
   "metadata": {
    "ExecuteTime": {
     "end_time": "2022-01-20T14:14:34.043102Z",
     "start_time": "2022-01-20T14:14:34.029239Z"
    }
   },
   "outputs": [
    {
     "data": {
      "text/plain": [
       "(224363, 6)"
      ]
     },
     "execution_count": 6,
     "metadata": {},
     "output_type": "execute_result"
    }
   ],
   "source": [
    "df.shape"
   ]
  },
  {
   "cell_type": "code",
   "execution_count": 7,
   "id": "a2bba74c",
   "metadata": {
    "ExecuteTime": {
     "end_time": "2022-01-20T14:14:34.230465Z",
     "start_time": "2022-01-20T14:14:34.044407Z"
    }
   },
   "outputs": [],
   "source": [
    "df = df.drop_duplicates(subset=['user','text'])"
   ]
  },
  {
   "cell_type": "code",
   "execution_count": 8,
   "id": "a568862c",
   "metadata": {
    "ExecuteTime": {
     "end_time": "2022-01-20T14:14:34.245681Z",
     "start_time": "2022-01-20T14:14:34.233470Z"
    }
   },
   "outputs": [
    {
     "data": {
      "text/plain": [
       "(223087, 6)"
      ]
     },
     "execution_count": 8,
     "metadata": {},
     "output_type": "execute_result"
    }
   ],
   "source": [
    "df.shape"
   ]
  },
  {
   "cell_type": "markdown",
   "id": "b8eac7d2",
   "metadata": {
    "id": "b8eac7d2"
   },
   "source": [
    "# Distribution Plot"
   ]
  },
  {
   "cell_type": "code",
   "execution_count": 9,
   "id": "X4neErJTHzRe",
   "metadata": {
    "ExecuteTime": {
     "end_time": "2022-01-20T14:14:34.669328Z",
     "start_time": "2022-01-20T14:14:34.248364Z"
    },
    "colab": {
     "base_uri": "https://localhost:8080/",
     "height": 279
    },
    "id": "X4neErJTHzRe",
    "outputId": "962e904b-de55-4b1c-c6d0-fab758c0dc02"
   },
   "outputs": [
    {
     "data": {
      "image/png": "[encoded data removed]",
      "text/plain": [
       "<Figure size 432x288 with 1 Axes>"
      ]
     },
     "metadata": {
      "needs_background": "light"
     },
     "output_type": "display_data"
    }
   ],
   "source": [
    "\n",
    "ax = sns.histplot(df,x='sentiment',hue='sentiment',multiple='dodge',bins=2)#,,2)\n",
    "ax.set_xticks([0,1])\n",
    "plt.savefig('preBalancing.pdf',dpi=300,bbox_inches='tight')"
   ]
  },
  {
   "cell_type": "markdown",
   "id": "764a654f",
   "metadata": {
    "id": "764a654f"
   },
   "source": [
    "# Day of Week extraction"
   ]
  },
  {
   "cell_type": "code",
   "execution_count": 57,
   "id": "ca0fb085",
   "metadata": {
    "ExecuteTime": {
     "end_time": "2022-01-20T14:55:41.426027Z",
     "start_time": "2022-01-20T14:54:55.338052Z"
    },
    "colab": {
     "base_uri": "https://localhost:8080/"
    },
    "id": "ca0fb085",
    "outputId": "9dd543ae-8388-4aa4-bd69-abb4d265d3a8",
    "scrolled": true
   },
   "outputs": [],
   "source": [
    "dates = [parser.parse(d,tzinfos={\"PDT\": -7 * 3600}) for d in df['date']]\n",
    "\n",
    "dates_val = [parser.parse(d,tzinfos={\"PDT\": -7 * 3600}) for d in df_val['date']]"
   ]
  },
  {
   "cell_type": "code",
   "execution_count": 58,
   "id": "1f73ba9b",
   "metadata": {
    "ExecuteTime": {
     "end_time": "2022-01-20T14:56:19.160262Z",
     "start_time": "2022-01-20T14:56:18.923455Z"
    },
    "id": "1f73ba9b"
   },
   "outputs": [],
   "source": [
    "df['weekdays'] = pd.Series([d.weekday() for d in dates])\n",
    "\n",
    "df_val['weekdays'] = pd.Series([d.weekday() for d in dates_val])"
   ]
  },
  {
   "cell_type": "code",
   "execution_count": 59,
   "id": "bd97d65e",
   "metadata": {
    "ExecuteTime": {
     "end_time": "2022-01-20T14:56:23.553002Z",
     "start_time": "2022-01-20T14:56:22.725807Z"
    },
    "colab": {
     "base_uri": "https://localhost:8080/",
     "height": 283
    },
    "id": "bd97d65e",
    "outputId": "79144955-a5b6-412e-f97c-f48b6719c864"
   },
   "outputs": [
    {
     "data": {
      "image/png": "[encoded data removed]",
      "text/plain": [
       "<Figure size 432x288 with 1 Axes>"
      ]
     },
     "metadata": {
      "needs_background": "light"
     },
     "output_type": "display_data"
    }
   ],
   "source": [
    "ax = sns.histplot(df,x='weekdays',hue='sentiment',multiple='dodge',shrink=.8,bins=6)\n",
    "plt.savefig('weekDays.pdf',dpi=300)"
   ]
  },
  {
   "cell_type": "code",
   "execution_count": 13,
   "id": "aaecea28",
   "metadata": {
    "ExecuteTime": {
     "end_time": "2022-01-20T14:15:12.005542Z",
     "start_time": "2022-01-20T14:15:11.977176Z"
    },
    "id": "aaecea28"
   },
   "outputs": [],
   "source": [
    "weekdays = pd.get_dummies(df['weekdays'])\n",
    "\n",
    "weekdays_val = pd.get_dummies(df_val['weekdays'])"
   ]
  },
  {
   "cell_type": "markdown",
   "id": "debc6529",
   "metadata": {
    "id": "debc6529"
   },
   "source": [
    "# Users Extraction"
   ]
  },
  {
   "cell_type": "code",
   "execution_count": 14,
   "id": "25b0e51d",
   "metadata": {
    "ExecuteTime": {
     "end_time": "2022-01-20T14:15:12.020696Z",
     "start_time": "2022-01-20T14:15:12.007543Z"
    },
    "id": "25b0e51d"
   },
   "outputs": [],
   "source": [
    "users = df['user']\n",
    "\n",
    "users_val = df_val['user']"
   ]
  },
  {
   "cell_type": "code",
   "execution_count": 15,
   "id": "e4b53603",
   "metadata": {
    "ExecuteTime": {
     "end_time": "2022-01-20T14:15:13.126096Z",
     "start_time": "2022-01-20T14:15:12.021538Z"
    },
    "id": "e4b53603"
   },
   "outputs": [],
   "source": [
    "users = pd.get_dummies(users)\n",
    "\n",
    "users_val = pd.get_dummies(users_val)"
   ]
  },
  {
   "cell_type": "code",
   "execution_count": 16,
   "id": "81f4d940",
   "metadata": {
    "ExecuteTime": {
     "end_time": "2022-01-20T14:15:13.141340Z",
     "start_time": "2022-01-20T14:15:13.128098Z"
    }
   },
   "outputs": [
    {
     "data": {
      "text/plain": [
       "((223087, 10647), (74999, 10647))"
      ]
     },
     "execution_count": 16,
     "metadata": {},
     "output_type": "execute_result"
    }
   ],
   "source": [
    "users.shape, users_val.shape"
   ]
  },
  {
   "cell_type": "markdown",
   "id": "9ee20b5c",
   "metadata": {
    "id": "9ee20b5c"
   },
   "source": [
    "# Text Length Exploration"
   ]
  },
  {
   "cell_type": "code",
   "execution_count": 17,
   "id": "a6fc6867",
   "metadata": {
    "ExecuteTime": {
     "end_time": "2022-01-20T14:15:13.296361Z",
     "start_time": "2022-01-20T14:15:13.144097Z"
    },
    "id": "a6fc6867"
   },
   "outputs": [],
   "source": [
    "df['tweet_lens'] = [len(t) for t in df['text']] "
   ]
  },
  {
   "cell_type": "code",
   "execution_count": 18,
   "id": "bfae85a0",
   "metadata": {
    "ExecuteTime": {
     "end_time": "2022-01-20T14:15:13.733438Z",
     "start_time": "2022-01-20T14:15:13.298387Z"
    },
    "colab": {
     "base_uri": "https://localhost:8080/",
     "height": 279
    },
    "id": "bfae85a0",
    "outputId": "87035886-9e72-4b57-f744-bbc85b333fae"
   },
   "outputs": [
    {
     "data": {
      "image/png": "[encoded data removed]",
      "text/plain": [
       "<Figure size 432x288 with 1 Axes>"
      ]
     },
     "metadata": {
      "needs_background": "light"
     },
     "output_type": "display_data"
    }
   ],
   "source": [
    "\n",
    "\n",
    "ax = sns.boxplot(x=df['sentiment'],y=df['tweet_lens'],showfliers=False)\n",
    "plt.savefig('textLen.pdf',dpi=300)"
   ]
  },
  {
   "cell_type": "markdown",
   "id": "60f5a10b",
   "metadata": {
    "id": "60f5a10b"
   },
   "source": [
    "# Decoding HTML symbols"
   ]
  },
  {
   "cell_type": "code",
   "execution_count": 19,
   "id": "685f14c4",
   "metadata": {
    "ExecuteTime": {
     "end_time": "2022-01-20T14:15:14.013990Z",
     "start_time": "2022-01-20T14:15:13.735436Z"
    },
    "id": "685f14c4"
   },
   "outputs": [],
   "source": [
    "texts = pd.Series(data=[html.unescape(t) for t in df['text']],index=df['text'].index)\n",
    "target = df['sentiment'] \n",
    "\n",
    "texts_val = pd.Series(data=[html.unescape(t) for t in df_val['text']],index=df_val['text'].index)"
   ]
  },
  {
   "cell_type": "markdown",
   "id": "80289bce",
   "metadata": {
    "id": "80289bce"
   },
   "source": [
    "# Lower case"
   ]
  },
  {
   "cell_type": "code",
   "execution_count": 20,
   "id": "d22b41df",
   "metadata": {
    "ExecuteTime": {
     "end_time": "2022-01-20T14:15:14.200165Z",
     "start_time": "2022-01-20T14:15:14.016074Z"
    },
    "id": "d22b41df"
   },
   "outputs": [],
   "source": [
    "texts = texts.str.lower()\n",
    "\n",
    "texts_val = texts_val.str.lower()"
   ]
  },
  {
   "cell_type": "markdown",
   "id": "33e8be8c",
   "metadata": {
    "id": "33e8be8c"
   },
   "source": [
    "# Remove URL"
   ]
  },
  {
   "cell_type": "code",
   "execution_count": 21,
   "id": "6bab023f",
   "metadata": {
    "ExecuteTime": {
     "end_time": "2022-01-20T14:15:14.806939Z",
     "start_time": "2022-01-20T14:15:14.202181Z"
    },
    "id": "6bab023f"
   },
   "outputs": [],
   "source": [
    "texts = texts.apply(lambda x: re.sub(r'https?:\\/\\/\\S+','',x))\n",
    "\n",
    "texts_val = texts_val.apply(lambda x: re.sub(r'https?:\\/\\/\\S+','',x))"
   ]
  },
  {
   "cell_type": "code",
   "execution_count": 22,
   "id": "35795753",
   "metadata": {
    "ExecuteTime": {
     "end_time": "2022-01-20T14:15:17.074039Z",
     "start_time": "2022-01-20T14:15:14.808937Z"
    },
    "id": "35795753"
   },
   "outputs": [],
   "source": [
    "texts = texts.apply(lambda x: re.sub(r'www\\.[a-z]?\\.?(com)+|[a-z]+\\.(com)','',x))\n",
    "\n",
    "texts_val = texts_val.apply(lambda x: re.sub(r'www\\.[a-z]?\\.?(com)+|[a-z]+\\.(com)','',x))"
   ]
  },
  {
   "cell_type": "markdown",
   "id": "2035db59",
   "metadata": {
    "id": "2035db59"
   },
   "source": [
    "# Remove Mentions"
   ]
  },
  {
   "cell_type": "code",
   "execution_count": 23,
   "id": "af4550cb",
   "metadata": {
    "ExecuteTime": {
     "end_time": "2022-01-20T14:15:17.824005Z",
     "start_time": "2022-01-20T14:15:17.079576Z"
    },
    "id": "af4550cb"
   },
   "outputs": [],
   "source": [
    "texts = texts.apply(lambda x: re.sub(r'@[a-z1-10]+','',x))\n",
    "\n",
    "texts_val = texts_val.apply(lambda x: re.sub(r'@[a-z1-10]+','',x))"
   ]
  },
  {
   "cell_type": "markdown",
   "id": "c228bb1e",
   "metadata": {
    "id": "c228bb1e"
   },
   "source": [
    "# Remove Numbers"
   ]
  },
  {
   "cell_type": "code",
   "execution_count": 24,
   "id": "d391be9c",
   "metadata": {
    "ExecuteTime": {
     "end_time": "2022-01-20T14:15:19.333345Z",
     "start_time": "2022-01-20T14:15:17.827317Z"
    },
    "id": "d391be9c"
   },
   "outputs": [],
   "source": [
    "texts = texts.apply(lambda x: re.sub(r'\\d+','',x))\n",
    "\n",
    "texts_val = texts_val.apply(lambda x: re.sub(r'\\d+','',x))"
   ]
  },
  {
   "cell_type": "markdown",
   "id": "vQbQ5TjHPJmt",
   "metadata": {
    "id": "vQbQ5TjHPJmt"
   },
   "source": [
    "# Remove Underscore"
   ]
  },
  {
   "cell_type": "code",
   "execution_count": 25,
   "id": "816f8047",
   "metadata": {
    "ExecuteTime": {
     "end_time": "2022-01-20T14:15:20.022857Z",
     "start_time": "2022-01-20T14:15:19.335147Z"
    },
    "id": "816f8047"
   },
   "outputs": [],
   "source": [
    "texts = texts.apply(lambda x: re.sub(r'_+','',x))\n",
    "\n",
    "texts_val = texts_val.apply(lambda x: re.sub(r'_+','',x))"
   ]
  },
  {
   "cell_type": "markdown",
   "id": "O9Qtea-4PRqL",
   "metadata": {
    "id": "O9Qtea-4PRqL"
   },
   "source": [
    "# Substitute Multiple Punctuation"
   ]
  },
  {
   "cell_type": "code",
   "execution_count": 26,
   "id": "23c4a15a",
   "metadata": {
    "ExecuteTime": {
     "end_time": "2022-01-20T14:15:20.429054Z",
     "start_time": "2022-01-20T14:15:20.024378Z"
    },
    "id": "23c4a15a"
   },
   "outputs": [],
   "source": [
    "texts = texts.apply(lambda x: re.sub(r'(\\.)\\1+',' MULTIPLE_SOSPENSION',x))\n",
    "\n",
    "texts_val = texts_val.apply(lambda x: re.sub(r'(\\.)\\1+',' MULTIPLE_SOSPENSION',x))"
   ]
  },
  {
   "cell_type": "code",
   "execution_count": 27,
   "id": "6cdbea0d",
   "metadata": {
    "ExecuteTime": {
     "end_time": "2022-01-20T14:15:20.757168Z",
     "start_time": "2022-01-20T14:15:20.430223Z"
    },
    "id": "6cdbea0d"
   },
   "outputs": [],
   "source": [
    "texts = texts.apply(lambda x: re.sub(r'(\\?)\\1+',' MULTIPLE_QUESTION',x))\n",
    "\n",
    "texts_val = texts_val.apply(lambda x: re.sub(r'(\\?)\\1+',' MULTIPLE_QUESTION',x))"
   ]
  },
  {
   "cell_type": "code",
   "execution_count": 28,
   "id": "74f8e428",
   "metadata": {
    "ExecuteTime": {
     "end_time": "2022-01-20T14:15:21.132265Z",
     "start_time": "2022-01-20T14:15:20.758982Z"
    },
    "id": "74f8e428"
   },
   "outputs": [],
   "source": [
    "texts = texts.apply(lambda x: re.sub(r'(\\!)\\1+',' MULTIPLE_ESCLAMATION',x))\n",
    "\n",
    "texts_val = texts_val.apply(lambda x: re.sub(r'(\\!)\\1+',' MULTIPLE_ESCLAMATION',x))"
   ]
  },
  {
   "cell_type": "markdown",
   "id": "5dd475e4",
   "metadata": {
    "id": "5dd475e4"
   },
   "source": [
    "# Substitute Emoticons"
   ]
  },
  {
   "cell_type": "code",
   "execution_count": 29,
   "id": "33d4c4d3",
   "metadata": {
    "ExecuteTime": {
     "end_time": "2022-01-20T14:15:22.466218Z",
     "start_time": "2022-01-20T14:15:21.134087Z"
    },
    "colab": {
     "base_uri": "https://localhost:8080/"
    },
    "id": "33d4c4d3",
    "outputId": "127f1045-c46b-4b71-d766-5230b1e8c289"
   },
   "outputs": [],
   "source": [
    "emot_obj = emot.core.emot()\n",
    "\n",
    "for i,row in zip(texts.index,texts.values):\n",
    "    dct = emot_obj.emoticons(row)\n",
    "    if dct['flag'] == True:\n",
    "        for j, el in enumerate(dct['value']):\n",
    "            texts[i] = texts[i].replace(el,'')\n",
    "            texts[i] = texts[i] + dct['mean'][j]"
   ]
  },
  {
   "cell_type": "markdown",
   "id": "02ce350f",
   "metadata": {
    "id": "02ce350f"
   },
   "source": [
    "# Tokenization"
   ]
  },
  {
   "cell_type": "code",
   "execution_count": 30,
   "id": "9307d24b",
   "metadata": {
    "ExecuteTime": {
     "end_time": "2022-01-20T14:15:46.519035Z",
     "start_time": "2022-01-20T14:15:22.467947Z"
    },
    "id": "9307d24b",
    "scrolled": true
   },
   "outputs": [],
   "source": [
    "tokenizer = TweetTokenizer(reduce_len=True)\n",
    "\n",
    "tokens = pd.Series([tokenizer.tokenize(t) for t in texts],index=df.index)\n",
    "\n",
    "tokens_val = pd.Series([tokenizer.tokenize(t) for t in texts_val],index=df_val.index)"
   ]
  },
  {
   "cell_type": "markdown",
   "id": "c1fa294d",
   "metadata": {
    "id": "c1fa294d"
   },
   "source": [
    "# Remove punctuation"
   ]
  },
  {
   "cell_type": "code",
   "execution_count": 31,
   "id": "bd033452",
   "metadata": {
    "ExecuteTime": {
     "end_time": "2022-01-20T14:15:46.534650Z",
     "start_time": "2022-01-20T14:15:46.521290Z"
    },
    "id": "bd033452",
    "scrolled": false
   },
   "outputs": [],
   "source": [
    "punctuation = list(string.punctuation)\n",
    "\n",
    "to_remove = punctuation"
   ]
  },
  {
   "cell_type": "code",
   "execution_count": 32,
   "id": "1fcc49fe",
   "metadata": {
    "ExecuteTime": {
     "end_time": "2022-01-20T14:15:50.002975Z",
     "start_time": "2022-01-20T14:15:46.536229Z"
    },
    "id": "1fcc49fe"
   },
   "outputs": [],
   "source": [
    "new_tokens = []\n",
    "new_tokens_val = []\n",
    "\n",
    "for tl in tokens:\n",
    "     new_tokens.append([t for t in tl if (t not in punctuation) & (len(t) > 2)])\n",
    "        \n",
    "for tl in tokens_val:\n",
    "     new_tokens_val.append([t for t in tl if (t not in punctuation) & (len(t) > 2)])\n",
    "        \n",
    "tokens = pd.Series(data=new_tokens,index=df.index)\n",
    "\n",
    "tokens_val = pd.Series(data=new_tokens_val,index=df_val.index)"
   ]
  },
  {
   "cell_type": "markdown",
   "id": "3Nnh4kNaQCqC",
   "metadata": {
    "id": "3Nnh4kNaQCqC"
   },
   "source": [
    "# Create Corpus"
   ]
  },
  {
   "cell_type": "code",
   "execution_count": 33,
   "id": "abf49d83",
   "metadata": {
    "ExecuteTime": {
     "end_time": "2022-01-20T14:15:50.443079Z",
     "start_time": "2022-01-20T14:15:50.004844Z"
    },
    "id": "abf49d83"
   },
   "outputs": [],
   "source": [
    "corpus = []\n",
    "corpus_val = []\n",
    "\n",
    "for t in tokens.values:\n",
    "    corpus.append(\" \".join(w for w in t))\n",
    "    \n",
    "for t in tokens_val.values:\n",
    "    corpus_val.append(\" \".join(w for w in t))\n",
    "    \n",
    "corpus = pd.Series(data=corpus,index=df.index)\n",
    "\n",
    "corpus_val = pd.Series(data=corpus_val,index=df_val.index)"
   ]
  },
  {
   "cell_type": "markdown",
   "id": "MQGDt3PnQIOi",
   "metadata": {
    "id": "MQGDt3PnQIOi"
   },
   "source": [
    "# TF-IDF Vectorization"
   ]
  },
  {
   "cell_type": "code",
   "execution_count": 34,
   "id": "8fab8f77",
   "metadata": {
    "ExecuteTime": {
     "end_time": "2022-01-20T14:16:01.376935Z",
     "start_time": "2022-01-20T14:15:50.444878Z"
    },
    "id": "8fab8f77"
   },
   "outputs": [],
   "source": [
    "vectorizer =TfidfVectorizer(use_idf=True,max_df=0.5,ngram_range=(1,2),max_features=60000,sublinear_tf=True)\n",
    "vect = vectorizer.fit_transform(corpus)\n",
    "\n",
    "vect_val = vectorizer.transform(corpus_val)"
   ]
  },
  {
   "cell_type": "code",
   "execution_count": 35,
   "id": "07647661",
   "metadata": {
    "ExecuteTime": {
     "end_time": "2022-01-20T14:16:01.393046Z",
     "start_time": "2022-01-20T14:16:01.377934Z"
    }
   },
   "outputs": [
    {
     "data": {
      "text/plain": [
       "((223087, 60000), (74999, 60000))"
      ]
     },
     "execution_count": 35,
     "metadata": {},
     "output_type": "execute_result"
    }
   ],
   "source": [
    "vect.shape, vect_val.shape"
   ]
  },
  {
   "cell_type": "markdown",
   "id": "wkjYef6UQON9",
   "metadata": {
    "id": "wkjYef6UQON9"
   },
   "source": [
    "# Concatenate Weekdays, Users and Texts Matrices"
   ]
  },
  {
   "cell_type": "code",
   "execution_count": 36,
   "id": "48ec5d52",
   "metadata": {
    "ExecuteTime": {
     "end_time": "2022-01-20T14:16:21.118034Z",
     "start_time": "2022-01-20T14:16:01.395002Z"
    },
    "id": "48ec5d52"
   },
   "outputs": [],
   "source": [
    "X = hstack((csr_matrix(weekdays),csr_matrix(users),vect))\n",
    "X_val = hstack((csr_matrix(weekdays_val),csr_matrix(users_val),vect_val))\n",
    "\n",
    "y = target"
   ]
  },
  {
   "cell_type": "markdown",
   "id": "reyyywHMQbBc",
   "metadata": {
    "id": "reyyywHMQbBc"
   },
   "source": [
    "# Final Shape"
   ]
  },
  {
   "cell_type": "code",
   "execution_count": 37,
   "id": "jdKN1Tv4QeBS",
   "metadata": {
    "ExecuteTime": {
     "end_time": "2022-01-20T14:16:21.133031Z",
     "start_time": "2022-01-20T14:16:21.119031Z"
    },
    "colab": {
     "base_uri": "https://localhost:8080/"
    },
    "id": "jdKN1Tv4QeBS",
    "outputId": "b7d521d5-8b23-4d80-8c39-c62cd0d0f6a3"
   },
   "outputs": [
    {
     "name": "stdout",
     "output_type": "stream",
     "text": [
      "X shape: (223087, 70654), X_val shape: (74999, 70654)\n"
     ]
    }
   ],
   "source": [
    "print(f\"X shape: {X.shape}, X_val shape: {X_val.shape}\")"
   ]
  },
  {
   "cell_type": "markdown",
   "id": "f10e0263",
   "metadata": {
    "id": "f10e0263"
   },
   "source": [
    "# Model Building"
   ]
  },
  {
   "cell_type": "code",
   "execution_count": 38,
   "id": "28cddca9",
   "metadata": {
    "ExecuteTime": {
     "end_time": "2022-01-20T14:16:21.148162Z",
     "start_time": "2022-01-20T14:16:21.134030Z"
    },
    "id": "28cddca9"
   },
   "outputs": [],
   "source": [
    "models = []"
   ]
  },
  {
   "cell_type": "code",
   "execution_count": 39,
   "id": "275438d9",
   "metadata": {
    "ExecuteTime": {
     "end_time": "2022-01-20T14:16:21.163349Z",
     "start_time": "2022-01-20T14:16:21.149251Z"
    },
    "id": "275438d9"
   },
   "outputs": [],
   "source": [
    "lr = LogisticRegression(max_iter=10000,class_weight='balanced')\n",
    "\n",
    "models.append(lr)"
   ]
  },
  {
   "cell_type": "code",
   "execution_count": 40,
   "id": "a3d0f62e",
   "metadata": {
    "ExecuteTime": {
     "end_time": "2022-01-20T14:16:21.179306Z",
     "start_time": "2022-01-20T14:16:21.164437Z"
    },
    "id": "a3d0f62e"
   },
   "outputs": [],
   "source": [
    "lsvc = LinearSVC(class_weight='balanced')\n",
    "\n",
    "models.append(lsvc)"
   ]
  },
  {
   "cell_type": "code",
   "execution_count": 41,
   "id": "2b23a439",
   "metadata": {
    "ExecuteTime": {
     "end_time": "2022-01-20T14:16:21.194900Z",
     "start_time": "2022-01-20T14:16:21.181094Z"
    },
    "id": "2b23a439"
   },
   "outputs": [],
   "source": [
    "rc = RidgeClassifier(class_weight='balanced')\n",
    "\n",
    "models.append(rc)"
   ]
  },
  {
   "cell_type": "markdown",
   "id": "pcobNql1Qyq4",
   "metadata": {
    "id": "pcobNql1Qyq4"
   },
   "source": [
    "## Cross Validation"
   ]
  },
  {
   "cell_type": "code",
   "execution_count": 42,
   "id": "8bc2aa1b",
   "metadata": {
    "ExecuteTime": {
     "end_time": "2022-01-20T14:18:12.136789Z",
     "start_time": "2022-01-20T14:16:21.196843Z"
    },
    "colab": {
     "base_uri": "https://localhost:8080/"
    },
    "id": "8bc2aa1b",
    "outputId": "a4746c98-2fe0-4616-ac3e-72c7f416b5fd",
    "scrolled": false
   },
   "outputs": [
    {
     "name": "stdout",
     "output_type": "stream",
     "text": [
      "Model: LogisticRegression(class_weight='balanced', max_iter=10000), ACC: 0.831, F1: 0.828, Recall: 0.835\n",
      "Model: LinearSVC(class_weight='balanced'), ACC: 0.817, F1: 0.813, Recall: 0.828\n",
      "Model: RidgeClassifier(class_weight='balanced'), ACC: 0.803, F1: 0.799, Recall: 0.811\n"
     ]
    }
   ],
   "source": [
    "from sklearn.model_selection import cross_validate\n",
    "\n",
    "results = []\n",
    "for m in models:\n",
    "    scores = cross_validate(m,X,y,cv=5,scoring=['accuracy','f1_macro','recall'])\n",
    "    current = [round(scores['test_accuracy'].mean(),3),round(scores['test_f1_macro'].mean(),3),round(scores['test_recall'].mean(),3)]\n",
    "    print(f\"Model: {m}, ACC: {current[0]}, F1: {current[1]}, Recall: {current[2]}\")\n",
    "    results.append(current)"
   ]
  },
  {
   "cell_type": "code",
   "execution_count": 43,
   "id": "d27fac31",
   "metadata": {
    "ExecuteTime": {
     "end_time": "2022-01-20T14:18:12.152521Z",
     "start_time": "2022-01-20T14:18:12.138525Z"
    },
    "id": "d27fac31"
   },
   "outputs": [],
   "source": [
    "df_res = pd.DataFrame(data=results,columns=['Accuracy','F1 Macro','Recall'],index=['Logistic Regression','Linear SVC','Ridge Classifier'])"
   ]
  },
  {
   "cell_type": "markdown",
   "id": "c9Xw9XWGQ4vS",
   "metadata": {
    "id": "c9Xw9XWGQ4vS"
   },
   "source": [
    "## Plot Results"
   ]
  },
  {
   "cell_type": "code",
   "execution_count": 44,
   "id": "b787e518",
   "metadata": {
    "ExecuteTime": {
     "end_time": "2022-01-20T14:18:12.479835Z",
     "start_time": "2022-01-20T14:18:12.154433Z"
    },
    "colab": {
     "base_uri": "https://localhost:8080/",
     "height": 265
    },
    "id": "b787e518",
    "outputId": "54a328db-7fd1-4550-fd64-6c03584ac800",
    "scrolled": false
   },
   "outputs": [
    {
     "data": {
      "image/png": "[encoded data removed]",
      "text/plain": [
       "<Figure size 432x288 with 1 Axes>"
      ]
     },
     "metadata": {
      "needs_background": "light"
     },
     "output_type": "display_data"
    }
   ],
   "source": [
    "ax = sns.lineplot(data=df_res)\n",
    "plt.savefig('models.pdf',dpi=300)"
   ]
  },
  {
   "cell_type": "markdown",
   "id": "IEHTSg4kQ9VN",
   "metadata": {
    "id": "IEHTSg4kQ9VN"
   },
   "source": [
    "## Hyperparameters Tuning"
   ]
  },
  {
   "cell_type": "code",
   "execution_count": 45,
   "id": "c1304781",
   "metadata": {
    "ExecuteTime": {
     "end_time": "2022-01-20T14:21:03.466321Z",
     "start_time": "2022-01-20T14:18:12.480764Z"
    },
    "colab": {
     "base_uri": "https://localhost:8080/"
    },
    "id": "c1304781",
    "outputId": "9f56ef6d-306d-4240-b8bc-b1da72ce44b3"
   },
   "outputs": [
    {
     "data": {
      "text/plain": [
       "HalvingGridSearchCV(estimator=LogisticRegression(class_weight='balanced',\n",
       "                                                 max_iter=10000),\n",
       "                    param_grid={'solver': ['liblinear', 'lbfgs', 'newton-cg',\n",
       "                                           'sag', 'saga']},\n",
       "                    scoring='f1_macro')"
      ]
     },
     "execution_count": 45,
     "metadata": {},
     "output_type": "execute_result"
    }
   ],
   "source": [
    "parameters = {\n",
    "    'solver':['liblinear','lbfgs','newton-cg','sag','saga'],\n",
    "}\n",
    "\n",
    "hgs = HalvingGridSearchCV(estimator=lr,param_grid=parameters,scoring='f1_macro',cv=5)\n",
    "hgs.fit(X,y)"
   ]
  },
  {
   "cell_type": "code",
   "execution_count": 46,
   "id": "909b19ba",
   "metadata": {
    "ExecuteTime": {
     "end_time": "2022-01-20T14:21:03.481885Z",
     "start_time": "2022-01-20T14:21:03.468874Z"
    },
    "colab": {
     "base_uri": "https://localhost:8080/"
    },
    "id": "909b19ba",
    "outputId": "8989e54d-5c12-4684-a3f2-32bc3f6b6d5b"
   },
   "outputs": [
    {
     "name": "stdout",
     "output_type": "stream",
     "text": [
      "Best Score: 0.828, Best Params: {'solver': 'lbfgs'}\n"
     ]
    }
   ],
   "source": [
    "print(f'Best Score: {round(hgs.best_score_,3)}, Best Params: {hgs.best_params_}')"
   ]
  },
  {
   "cell_type": "markdown",
   "id": "OpaTCcEtRDzY",
   "metadata": {
    "id": "OpaTCcEtRDzY"
   },
   "source": [
    "# Final Prediction"
   ]
  },
  {
   "cell_type": "code",
   "execution_count": 47,
   "id": "4240c166",
   "metadata": {
    "ExecuteTime": {
     "end_time": "2022-01-20T14:21:03.497885Z",
     "start_time": "2022-01-20T14:21:03.483886Z"
    },
    "id": "4240c166"
   },
   "outputs": [],
   "source": [
    "lr = LogisticRegression(max_iter=10000,class_weight='balanced',dual=False,solver='saga')"
   ]
  },
  {
   "cell_type": "code",
   "execution_count": 48,
   "id": "a541ffd4",
   "metadata": {
    "ExecuteTime": {
     "end_time": "2022-01-20T14:21:08.670557Z",
     "start_time": "2022-01-20T14:21:03.499885Z"
    },
    "id": "a541ffd4"
   },
   "outputs": [],
   "source": [
    "lr.fit(X,y)\n",
    "y_pred = lr.predict(X_val)"
   ]
  },
  {
   "cell_type": "markdown",
   "id": "AkKHCEM9RJba",
   "metadata": {
    "id": "AkKHCEM9RJba"
   },
   "source": [
    "## Model WordCloud"
   ]
  },
  {
   "cell_type": "code",
   "execution_count": 53,
   "id": "0a7f542a",
   "metadata": {
    "ExecuteTime": {
     "end_time": "2022-01-20T14:31:08.569972Z",
     "start_time": "2022-01-20T14:31:08.486924Z"
    }
   },
   "outputs": [],
   "source": [
    "columns = vectorizer.get_feature_names_out()"
   ]
  },
  {
   "cell_type": "code",
   "execution_count": 54,
   "id": "416a3b75",
   "metadata": {
    "ExecuteTime": {
     "end_time": "2022-01-20T14:31:10.596363Z",
     "start_time": "2022-01-20T14:31:10.583776Z"
    },
    "id": "416a3b75",
    "scrolled": true
   },
   "outputs": [],
   "source": [
    "coef = np.abs(lr.coef_[0])"
   ]
  },
  {
   "cell_type": "code",
   "execution_count": 55,
   "id": "58143381",
   "metadata": {
    "ExecuteTime": {
     "end_time": "2022-01-20T14:31:10.983763Z",
     "start_time": "2022-01-20T14:31:10.946653Z"
    },
    "id": "58143381"
   },
   "outputs": [],
   "source": [
    "dct = {columns[i]:coef[i] for i in range(0,len(columns))}"
   ]
  },
  {
   "cell_type": "code",
   "execution_count": 56,
   "id": "b3f53896",
   "metadata": {
    "ExecuteTime": {
     "end_time": "2022-01-20T14:31:12.131119Z",
     "start_time": "2022-01-20T14:31:12.015774Z"
    },
    "colab": {
     "base_uri": "https://localhost:8080/",
     "height": 248
    },
    "id": "b3f53896",
    "outputId": "e62f7b01-99fc-42c7-efd7-784cb44a5bb4"
   },
   "outputs": [
    {
     "ename": "TypeError",
     "evalue": "expected string or bytes-like object",
     "output_type": "error",
     "traceback": [
      "\u001b[1;31m---------------------------------------------------------------------------\u001b[0m",
      "\u001b[1;31mTypeError\u001b[0m                                 Traceback (most recent call last)",
      "\u001b[1;32m<ipython-input-56-b1c3e24bc688>\u001b[0m in \u001b[0;36m<module>\u001b[1;34m\u001b[0m\n\u001b[0;32m      2\u001b[0m \u001b[1;33m\u001b[0m\u001b[0m\n\u001b[0;32m      3\u001b[0m \u001b[0mwc\u001b[0m \u001b[1;33m=\u001b[0m \u001b[0mWordCloud\u001b[0m\u001b[1;33m(\u001b[0m\u001b[0mbackground_color\u001b[0m\u001b[1;33m=\u001b[0m\u001b[1;34m'white'\u001b[0m\u001b[1;33m,\u001b[0m\u001b[0mmask\u001b[0m\u001b[1;33m=\u001b[0m\u001b[0mmask\u001b[0m\u001b[1;33m)\u001b[0m\u001b[1;33m\u001b[0m\u001b[1;33m\u001b[0m\u001b[0m\n\u001b[1;32m----> 4\u001b[1;33m \u001b[0mwc\u001b[0m\u001b[1;33m.\u001b[0m\u001b[0mfit_words\u001b[0m\u001b[1;33m(\u001b[0m\u001b[0mdct\u001b[0m\u001b[1;33m)\u001b[0m\u001b[1;33m\u001b[0m\u001b[1;33m\u001b[0m\u001b[0m\n\u001b[0m\u001b[0;32m      5\u001b[0m \u001b[0mplt\u001b[0m\u001b[1;33m.\u001b[0m\u001b[0mfigure\u001b[0m\u001b[1;33m(\u001b[0m\u001b[1;33m)\u001b[0m\u001b[1;33m\u001b[0m\u001b[1;33m\u001b[0m\u001b[0m\n\u001b[0;32m      6\u001b[0m \u001b[0mplt\u001b[0m\u001b[1;33m.\u001b[0m\u001b[0mimshow\u001b[0m\u001b[1;33m(\u001b[0m\u001b[0mwc\u001b[0m\u001b[1;33m,\u001b[0m\u001b[0minterpolation\u001b[0m\u001b[1;33m=\u001b[0m\u001b[1;34m'bilinear'\u001b[0m\u001b[1;33m)\u001b[0m\u001b[1;33m\u001b[0m\u001b[1;33m\u001b[0m\u001b[0m\n",
      "\u001b[1;32m~\\anaconda3\\lib\\site-packages\\wordcloud\\wordcloud.py\u001b[0m in \u001b[0;36mfit_words\u001b[1;34m(self, frequencies)\u001b[0m\n\u001b[0;32m    380\u001b[0m         \u001b[0mself\u001b[0m\u001b[1;33m\u001b[0m\u001b[1;33m\u001b[0m\u001b[0m\n\u001b[0;32m    381\u001b[0m         \"\"\"\n\u001b[1;32m--> 382\u001b[1;33m         \u001b[1;32mreturn\u001b[0m \u001b[0mself\u001b[0m\u001b[1;33m.\u001b[0m\u001b[0mgenerate_from_frequencies\u001b[0m\u001b[1;33m(\u001b[0m\u001b[0mfrequencies\u001b[0m\u001b[1;33m)\u001b[0m\u001b[1;33m\u001b[0m\u001b[1;33m\u001b[0m\u001b[0m\n\u001b[0m\u001b[0;32m    383\u001b[0m \u001b[1;33m\u001b[0m\u001b[0m\n\u001b[0;32m    384\u001b[0m     \u001b[1;32mdef\u001b[0m \u001b[0mgenerate_from_frequencies\u001b[0m\u001b[1;33m(\u001b[0m\u001b[0mself\u001b[0m\u001b[1;33m,\u001b[0m \u001b[0mfrequencies\u001b[0m\u001b[1;33m,\u001b[0m \u001b[0mmax_font_size\u001b[0m\u001b[1;33m=\u001b[0m\u001b[1;32mNone\u001b[0m\u001b[1;33m)\u001b[0m\u001b[1;33m:\u001b[0m  \u001b[1;31m# noqa: C901\u001b[0m\u001b[1;33m\u001b[0m\u001b[1;33m\u001b[0m\u001b[0m\n",
      "\u001b[1;32m~\\anaconda3\\lib\\site-packages\\wordcloud\\wordcloud.py\u001b[0m in \u001b[0;36mgenerate_from_frequencies\u001b[1;34m(self, frequencies, max_font_size)\u001b[0m\n\u001b[0;32m    444\u001b[0m                 \u001b[0mfont_size\u001b[0m \u001b[1;33m=\u001b[0m \u001b[0mself\u001b[0m\u001b[1;33m.\u001b[0m\u001b[0mheight\u001b[0m\u001b[1;33m\u001b[0m\u001b[1;33m\u001b[0m\u001b[0m\n\u001b[0;32m    445\u001b[0m             \u001b[1;32melse\u001b[0m\u001b[1;33m:\u001b[0m\u001b[1;33m\u001b[0m\u001b[1;33m\u001b[0m\u001b[0m\n\u001b[1;32m--> 446\u001b[1;33m                 self.generate_from_frequencies(dict(frequencies[:2]),\n\u001b[0m\u001b[0;32m    447\u001b[0m                                                max_font_size=self.height)\n\u001b[0;32m    448\u001b[0m                 \u001b[1;31m# find font sizes\u001b[0m\u001b[1;33m\u001b[0m\u001b[1;33m\u001b[0m\u001b[1;33m\u001b[0m\u001b[0m\n",
      "\u001b[1;32m~\\anaconda3\\lib\\site-packages\\wordcloud\\wordcloud.py\u001b[0m in \u001b[0;36mgenerate_from_frequencies\u001b[1;34m(self, frequencies, max_font_size)\u001b[0m\n\u001b[0;32m    494\u001b[0m             \u001b[1;32mwhile\u001b[0m \u001b[1;32mTrue\u001b[0m\u001b[1;33m:\u001b[0m\u001b[1;33m\u001b[0m\u001b[1;33m\u001b[0m\u001b[0m\n\u001b[0;32m    495\u001b[0m                 \u001b[1;31m# try to find a position\u001b[0m\u001b[1;33m\u001b[0m\u001b[1;33m\u001b[0m\u001b[1;33m\u001b[0m\u001b[0m\n\u001b[1;32m--> 496\u001b[1;33m                 \u001b[0mfont\u001b[0m \u001b[1;33m=\u001b[0m \u001b[0mImageFont\u001b[0m\u001b[1;33m.\u001b[0m\u001b[0mtruetype\u001b[0m\u001b[1;33m(\u001b[0m\u001b[0mself\u001b[0m\u001b[1;33m.\u001b[0m\u001b[0mfont_path\u001b[0m\u001b[1;33m,\u001b[0m \u001b[0mfont_size\u001b[0m\u001b[1;33m)\u001b[0m\u001b[1;33m\u001b[0m\u001b[1;33m\u001b[0m\u001b[0m\n\u001b[0m\u001b[0;32m    497\u001b[0m                 \u001b[1;31m# transpose font optionally\u001b[0m\u001b[1;33m\u001b[0m\u001b[1;33m\u001b[0m\u001b[1;33m\u001b[0m\u001b[0m\n\u001b[0;32m    498\u001b[0m                 transposed_font = ImageFont.TransposedFont(\n",
      "\u001b[1;32m~\\anaconda3\\lib\\site-packages\\PIL\\ImageFont.py\u001b[0m in \u001b[0;36mtruetype\u001b[1;34m(font, size, index, encoding, layout_engine)\u001b[0m\n\u001b[0;32m    851\u001b[0m \u001b[1;33m\u001b[0m\u001b[0m\n\u001b[0;32m    852\u001b[0m     \u001b[1;32mtry\u001b[0m\u001b[1;33m:\u001b[0m\u001b[1;33m\u001b[0m\u001b[1;33m\u001b[0m\u001b[0m\n\u001b[1;32m--> 853\u001b[1;33m         \u001b[1;32mreturn\u001b[0m \u001b[0mfreetype\u001b[0m\u001b[1;33m(\u001b[0m\u001b[0mfont\u001b[0m\u001b[1;33m)\u001b[0m\u001b[1;33m\u001b[0m\u001b[1;33m\u001b[0m\u001b[0m\n\u001b[0m\u001b[0;32m    854\u001b[0m     \u001b[1;32mexcept\u001b[0m \u001b[0mOSError\u001b[0m\u001b[1;33m:\u001b[0m\u001b[1;33m\u001b[0m\u001b[1;33m\u001b[0m\u001b[0m\n\u001b[0;32m    855\u001b[0m         \u001b[1;32mif\u001b[0m \u001b[1;32mnot\u001b[0m \u001b[0misPath\u001b[0m\u001b[1;33m(\u001b[0m\u001b[0mfont\u001b[0m\u001b[1;33m)\u001b[0m\u001b[1;33m:\u001b[0m\u001b[1;33m\u001b[0m\u001b[1;33m\u001b[0m\u001b[0m\n",
      "\u001b[1;32m~\\anaconda3\\lib\\site-packages\\PIL\\ImageFont.py\u001b[0m in \u001b[0;36mfreetype\u001b[1;34m(font)\u001b[0m\n\u001b[0;32m    848\u001b[0m \u001b[1;33m\u001b[0m\u001b[0m\n\u001b[0;32m    849\u001b[0m     \u001b[1;32mdef\u001b[0m \u001b[0mfreetype\u001b[0m\u001b[1;33m(\u001b[0m\u001b[0mfont\u001b[0m\u001b[1;33m)\u001b[0m\u001b[1;33m:\u001b[0m\u001b[1;33m\u001b[0m\u001b[1;33m\u001b[0m\u001b[0m\n\u001b[1;32m--> 850\u001b[1;33m         \u001b[1;32mreturn\u001b[0m \u001b[0mFreeTypeFont\u001b[0m\u001b[1;33m(\u001b[0m\u001b[0mfont\u001b[0m\u001b[1;33m,\u001b[0m \u001b[0msize\u001b[0m\u001b[1;33m,\u001b[0m \u001b[0mindex\u001b[0m\u001b[1;33m,\u001b[0m \u001b[0mencoding\u001b[0m\u001b[1;33m,\u001b[0m \u001b[0mlayout_engine\u001b[0m\u001b[1;33m)\u001b[0m\u001b[1;33m\u001b[0m\u001b[1;33m\u001b[0m\u001b[0m\n\u001b[0m\u001b[0;32m    851\u001b[0m \u001b[1;33m\u001b[0m\u001b[0m\n\u001b[0;32m    852\u001b[0m     \u001b[1;32mtry\u001b[0m\u001b[1;33m:\u001b[0m\u001b[1;33m\u001b[0m\u001b[1;33m\u001b[0m\u001b[0m\n",
      "\u001b[1;32m~\\anaconda3\\lib\\site-packages\\PIL\\ImageFont.py\u001b[0m in \u001b[0;36m__init__\u001b[1;34m(self, font, size, index, encoding, layout_engine)\u001b[0m\n\u001b[0;32m    171\u001b[0m             \u001b[1;32mpass\u001b[0m\u001b[1;33m\u001b[0m\u001b[1;33m\u001b[0m\u001b[0m\n\u001b[0;32m    172\u001b[0m         \u001b[1;32melse\u001b[0m\u001b[1;33m:\u001b[0m\u001b[1;33m\u001b[0m\u001b[1;33m\u001b[0m\u001b[0m\n\u001b[1;32m--> 173\u001b[1;33m             \u001b[0mfreetype_version\u001b[0m \u001b[1;33m=\u001b[0m \u001b[0mparse_version\u001b[0m\u001b[1;33m(\u001b[0m\u001b[0mfeatures\u001b[0m\u001b[1;33m.\u001b[0m\u001b[0mversion_module\u001b[0m\u001b[1;33m(\u001b[0m\u001b[1;34m\"freetype2\"\u001b[0m\u001b[1;33m)\u001b[0m\u001b[1;33m)\u001b[0m\u001b[1;33m\u001b[0m\u001b[1;33m\u001b[0m\u001b[0m\n\u001b[0m\u001b[0;32m    174\u001b[0m             \u001b[1;32mif\u001b[0m \u001b[0mfreetype_version\u001b[0m \u001b[1;33m<\u001b[0m \u001b[0mparse_version\u001b[0m\u001b[1;33m(\u001b[0m\u001b[1;34m\"2.8\"\u001b[0m\u001b[1;33m)\u001b[0m\u001b[1;33m:\u001b[0m\u001b[1;33m\u001b[0m\u001b[1;33m\u001b[0m\u001b[0m\n\u001b[0;32m    175\u001b[0m                 warnings.warn(\n",
      "\u001b[1;32m~\\anaconda3\\lib\\site-packages\\packaging\\version.py\u001b[0m in \u001b[0;36mparse\u001b[1;34m(version)\u001b[0m\n\u001b[0;32m     55\u001b[0m     \"\"\"\n\u001b[0;32m     56\u001b[0m     \u001b[1;32mtry\u001b[0m\u001b[1;33m:\u001b[0m\u001b[1;33m\u001b[0m\u001b[1;33m\u001b[0m\u001b[0m\n\u001b[1;32m---> 57\u001b[1;33m         \u001b[1;32mreturn\u001b[0m \u001b[0mVersion\u001b[0m\u001b[1;33m(\u001b[0m\u001b[0mversion\u001b[0m\u001b[1;33m)\u001b[0m\u001b[1;33m\u001b[0m\u001b[1;33m\u001b[0m\u001b[0m\n\u001b[0m\u001b[0;32m     58\u001b[0m     \u001b[1;32mexcept\u001b[0m \u001b[0mInvalidVersion\u001b[0m\u001b[1;33m:\u001b[0m\u001b[1;33m\u001b[0m\u001b[1;33m\u001b[0m\u001b[0m\n\u001b[0;32m     59\u001b[0m         \u001b[1;32mreturn\u001b[0m \u001b[0mLegacyVersion\u001b[0m\u001b[1;33m(\u001b[0m\u001b[0mversion\u001b[0m\u001b[1;33m)\u001b[0m\u001b[1;33m\u001b[0m\u001b[1;33m\u001b[0m\u001b[0m\n",
      "\u001b[1;32m~\\anaconda3\\lib\\site-packages\\packaging\\version.py\u001b[0m in \u001b[0;36m__init__\u001b[1;34m(self, version)\u001b[0m\n\u001b[0;32m    294\u001b[0m \u001b[1;33m\u001b[0m\u001b[0m\n\u001b[0;32m    295\u001b[0m         \u001b[1;31m# Validate the version and parse it into pieces\u001b[0m\u001b[1;33m\u001b[0m\u001b[1;33m\u001b[0m\u001b[1;33m\u001b[0m\u001b[0m\n\u001b[1;32m--> 296\u001b[1;33m         \u001b[0mmatch\u001b[0m \u001b[1;33m=\u001b[0m \u001b[0mself\u001b[0m\u001b[1;33m.\u001b[0m\u001b[0m_regex\u001b[0m\u001b[1;33m.\u001b[0m\u001b[0msearch\u001b[0m\u001b[1;33m(\u001b[0m\u001b[0mversion\u001b[0m\u001b[1;33m)\u001b[0m\u001b[1;33m\u001b[0m\u001b[1;33m\u001b[0m\u001b[0m\n\u001b[0m\u001b[0;32m    297\u001b[0m         \u001b[1;32mif\u001b[0m \u001b[1;32mnot\u001b[0m \u001b[0mmatch\u001b[0m\u001b[1;33m:\u001b[0m\u001b[1;33m\u001b[0m\u001b[1;33m\u001b[0m\u001b[0m\n\u001b[0;32m    298\u001b[0m             \u001b[1;32mraise\u001b[0m \u001b[0mInvalidVersion\u001b[0m\u001b[1;33m(\u001b[0m\u001b[1;34m\"Invalid version: '{0}'\"\u001b[0m\u001b[1;33m.\u001b[0m\u001b[0mformat\u001b[0m\u001b[1;33m(\u001b[0m\u001b[0mversion\u001b[0m\u001b[1;33m)\u001b[0m\u001b[1;33m)\u001b[0m\u001b[1;33m\u001b[0m\u001b[1;33m\u001b[0m\u001b[0m\n",
      "\u001b[1;31mTypeError\u001b[0m: expected string or bytes-like object"
     ]
    }
   ],
   "source": [
    "mask = np.array(Image.open(\"Twitter.png\"))\n",
    "\n",
    "wc = WordCloud(background_color='white',mask=mask)\n",
    "wc.fit_words(dct)\n",
    "plt.figure()\n",
    "plt.imshow(wc,interpolation='bilinear')\n",
    "plt.axis('off')\n",
    "plt.savefig('wordcloud.pdf',dpi=300)\n",
    "plt.show()"
   ]
  },
  {
   "cell_type": "markdown",
   "id": "VsasMm-wRQaC",
   "metadata": {
    "id": "VsasMm-wRQaC"
   },
   "source": [
    "# Generating Results csv"
   ]
  },
  {
   "cell_type": "code",
   "execution_count": 188,
   "id": "f1f8ff72",
   "metadata": {
    "ExecuteTime": {
     "end_time": "2022-01-19T15:29:21.049374Z",
     "start_time": "2022-01-19T15:29:20.934708Z"
    },
    "id": "f1f8ff72"
   },
   "outputs": [],
   "source": [
    "final_df = pd.DataFrame({'Id':df_val.index.to_list(),'Predicted':y_pred})"
   ]
  },
  {
   "cell_type": "code",
   "execution_count": 189,
   "id": "2af565ff",
   "metadata": {
    "ExecuteTime": {
     "end_time": "2022-01-19T15:29:21.485995Z",
     "start_time": "2022-01-19T15:29:21.060147Z"
    },
    "id": "2af565ff"
   },
   "outputs": [],
   "source": [
    "final_df.to_csv('resultProjectBest.csv',index=False)"
   ]
  }
 ],
 "metadata": {
  "colab": {
   "collapsed_sections": [],
   "name": "UltimateProject - Copia.ipynb",
   "provenance": []
  },
  "kernelspec": {
   "display_name": "Python 3",
   "language": "python",
   "name": "python3"
  },
  "language_info": {
   "codemirror_mode": {
    "name": "ipython",
    "version": 3
   },
   "file_extension": ".py",
   "mimetype": "text/x-python",
   "name": "python",
   "nbconvert_exporter": "python",
   "pygments_lexer": "ipython3",
   "version": "3.8.8"
  }
 },
 "nbformat": 4,
 "nbformat_minor": 5
}
